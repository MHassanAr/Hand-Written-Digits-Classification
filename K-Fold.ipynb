{
 "cells": [
  {
   "cell_type": "code",
   "execution_count": 26,
   "metadata": {},
   "outputs": [],
   "source": [
    "import numpy as np\n",
    "import tensorflow as tf\n",
    "from tensorflow import keras\n",
    "from sklearn.model_selection import KFold\n",
    "import time\n",
    "import matplotlib.pyplot as plt"
   ]
  },
  {
   "cell_type": "markdown",
   "metadata": {},
   "source": [
    "<h3>Load MNIST dataset</h3>"
   ]
  },
  {
   "cell_type": "code",
   "execution_count": 27,
   "metadata": {},
   "outputs": [],
   "source": [
    "(X_train, y_train), (X_test, y_test) = keras.datasets.mnist.load_data()"
   ]
  },
  {
   "cell_type": "markdown",
   "metadata": {},
   "source": [
    "<h3>Combine the training and test sets into one</h3>"
   ]
  },
  {
   "cell_type": "code",
   "execution_count": 28,
   "metadata": {},
   "outputs": [],
   "source": [
    "X_combined = np.concatenate([X_train, X_test], axis=0)\n",
    "y_combined = np.concatenate([y_train, y_test], axis=0)"
   ]
  },
  {
   "cell_type": "markdown",
   "metadata": {},
   "source": [
    "<h3>Normalize the images</h3>"
   ]
  },
  {
   "cell_type": "code",
   "execution_count": 29,
   "metadata": {},
   "outputs": [],
   "source": [
    "X_combined = X_combined / 255.0"
   ]
  },
  {
   "cell_type": "markdown",
   "metadata": {},
   "source": [
    "<h3>Flatten the images</h3>"
   ]
  },
  {
   "cell_type": "code",
   "execution_count": 30,
   "metadata": {},
   "outputs": [],
   "source": [
    "X_combined_flattened = X_combined.reshape(len(X_combined), 28 * 28)"
   ]
  },
  {
   "cell_type": "markdown",
   "metadata": {},
   "source": [
    "<h3>Initialize the KFold cross-validation</h3>"
   ]
  },
  {
   "cell_type": "code",
   "execution_count": 31,
   "metadata": {},
   "outputs": [],
   "source": [
    "kf = KFold(n_splits=5, shuffle=True, random_state=42)\n",
    "\n",
    "# Track the metrics for each fold\n",
    "fold_accuracies = []\n",
    "fold_losses = []\n",
    "fold_val_accuracies = []\n",
    "fold_val_losses = []\n",
    "fold_times = []"
   ]
  },
  {
   "cell_type": "markdown",
   "metadata": {},
   "source": [
    "<h3>Perform 5-fold cross-validation</h3>"
   ]
  },
  {
   "cell_type": "code",
   "execution_count": 32,
   "metadata": {},
   "outputs": [
    {
     "name": "stdout",
     "output_type": "stream",
     "text": [
      "Training on Fold 1...\n",
      "Epoch 1/5\n",
      "\u001b[1m1750/1750\u001b[0m \u001b[32m━━━━━━━━━━━━━━━━━━━━\u001b[0m\u001b[37m\u001b[0m \u001b[1m7s\u001b[0m 3ms/step - accuracy: 0.5464 - loss: 1.6911 - val_accuracy: 0.8748 - val_loss: 0.5342\n",
      "Epoch 2/5\n",
      "\u001b[1m1750/1750\u001b[0m \u001b[32m━━━━━━━━━━━━━━━━━━━━\u001b[0m\u001b[37m\u001b[0m \u001b[1m6s\u001b[0m 3ms/step - accuracy: 0.8890 - loss: 0.4559 - val_accuracy: 0.9055 - val_loss: 0.3464\n",
      "Epoch 3/5\n",
      "\u001b[1m1750/1750\u001b[0m \u001b[32m━━━━━━━━━━━━━━━━━━━━\u001b[0m\u001b[37m\u001b[0m \u001b[1m5s\u001b[0m 3ms/step - accuracy: 0.9153 - loss: 0.3058 - val_accuracy: 0.9229 - val_loss: 0.2780\n",
      "Epoch 4/5\n",
      "\u001b[1m1750/1750\u001b[0m \u001b[32m━━━━━━━━━━━━━━━━━━━━\u001b[0m\u001b[37m\u001b[0m \u001b[1m5s\u001b[0m 3ms/step - accuracy: 0.9316 - loss: 0.2474 - val_accuracy: 0.9306 - val_loss: 0.2500\n",
      "Epoch 5/5\n",
      "\u001b[1m1750/1750\u001b[0m \u001b[32m━━━━━━━━━━━━━━━━━━━━\u001b[0m\u001b[37m\u001b[0m \u001b[1m6s\u001b[0m 3ms/step - accuracy: 0.9388 - loss: 0.2202 - val_accuracy: 0.9347 - val_loss: 0.2306\n",
      "Fold 1 - Training Loss: 0.2144, Training Accuracy: 0.9398\n",
      "Fold 1 - Validation Loss: 0.2306, Validation Accuracy: 0.9347\n",
      "Time taken for Fold 1: 29.86 seconds\n",
      "\n",
      "Training on Fold 2...\n",
      "Epoch 1/5\n",
      "\u001b[1m1750/1750\u001b[0m \u001b[32m━━━━━━━━━━━━━━━━━━━━\u001b[0m\u001b[37m\u001b[0m \u001b[1m7s\u001b[0m 3ms/step - accuracy: 0.5600 - loss: 1.6531 - val_accuracy: 0.8671 - val_loss: 0.5778\n",
      "Epoch 2/5\n",
      "\u001b[1m1750/1750\u001b[0m \u001b[32m━━━━━━━━━━━━━━━━━━━━\u001b[0m\u001b[37m\u001b[0m \u001b[1m11s\u001b[0m 4ms/step - accuracy: 0.8860 - loss: 0.4843 - val_accuracy: 0.9018 - val_loss: 0.3628\n",
      "Epoch 3/5\n",
      "\u001b[1m1750/1750\u001b[0m \u001b[32m━━━━━━━━━━━━━━━━━━━━\u001b[0m\u001b[37m\u001b[0m \u001b[1m5s\u001b[0m 3ms/step - accuracy: 0.9100 - loss: 0.3306 - val_accuracy: 0.9131 - val_loss: 0.3082\n",
      "Epoch 4/5\n",
      "\u001b[1m1750/1750\u001b[0m \u001b[32m━━━━━━━━━━━━━━━━━━━━\u001b[0m\u001b[37m\u001b[0m \u001b[1m6s\u001b[0m 3ms/step - accuracy: 0.9233 - loss: 0.2782 - val_accuracy: 0.9194 - val_loss: 0.2793\n",
      "Epoch 5/5\n",
      "\u001b[1m1750/1750\u001b[0m \u001b[32m━━━━━━━━━━━━━━━━━━━━\u001b[0m\u001b[37m\u001b[0m \u001b[1m5s\u001b[0m 3ms/step - accuracy: 0.9292 - loss: 0.2534 - val_accuracy: 0.9244 - val_loss: 0.2621\n",
      "Fold 2 - Training Loss: 0.2469, Training Accuracy: 0.9307\n",
      "Fold 2 - Validation Loss: 0.2621, Validation Accuracy: 0.9244\n",
      "Time taken for Fold 2: 35.28 seconds\n",
      "\n",
      "Training on Fold 3...\n",
      "Epoch 1/5\n",
      "\u001b[1m1750/1750\u001b[0m \u001b[32m━━━━━━━━━━━━━━━━━━━━\u001b[0m\u001b[37m\u001b[0m \u001b[1m7s\u001b[0m 3ms/step - accuracy: 0.5570 - loss: 1.6704 - val_accuracy: 0.8778 - val_loss: 0.5601\n",
      "Epoch 2/5\n",
      "\u001b[1m1750/1750\u001b[0m \u001b[32m━━━━━━━━━━━━━━━━━━━━\u001b[0m\u001b[37m\u001b[0m \u001b[1m10s\u001b[0m 3ms/step - accuracy: 0.8878 - loss: 0.4807 - val_accuracy: 0.9057 - val_loss: 0.3556\n",
      "Epoch 3/5\n",
      "\u001b[1m1750/1750\u001b[0m \u001b[32m━━━━━━━━━━━━━━━━━━━━\u001b[0m\u001b[37m\u001b[0m \u001b[1m6s\u001b[0m 3ms/step - accuracy: 0.9133 - loss: 0.3266 - val_accuracy: 0.9196 - val_loss: 0.2921\n",
      "Epoch 4/5\n",
      "\u001b[1m1750/1750\u001b[0m \u001b[32m━━━━━━━━━━━━━━━━━━━━\u001b[0m\u001b[37m\u001b[0m \u001b[1m6s\u001b[0m 3ms/step - accuracy: 0.9273 - loss: 0.2684 - val_accuracy: 0.9273 - val_loss: 0.2579\n",
      "Epoch 5/5\n",
      "\u001b[1m1750/1750\u001b[0m \u001b[32m━━━━━━━━━━━━━━━━━━━━\u001b[0m\u001b[37m\u001b[0m \u001b[1m6s\u001b[0m 3ms/step - accuracy: 0.9351 - loss: 0.2318 - val_accuracy: 0.9325 - val_loss: 0.2412\n",
      "Fold 3 - Training Loss: 0.2325, Training Accuracy: 0.9342\n",
      "Fold 3 - Validation Loss: 0.2412, Validation Accuracy: 0.9325\n",
      "Time taken for Fold 3: 35.01 seconds\n",
      "\n",
      "Training on Fold 4...\n",
      "Epoch 1/5\n",
      "\u001b[1m1750/1750\u001b[0m \u001b[32m━━━━━━━━━━━━━━━━━━━━\u001b[0m\u001b[37m\u001b[0m \u001b[1m7s\u001b[0m 3ms/step - accuracy: 0.6400 - loss: 1.6177 - val_accuracy: 0.8801 - val_loss: 0.5399\n",
      "Epoch 2/5\n",
      "\u001b[1m1750/1750\u001b[0m \u001b[32m━━━━━━━━━━━━━━━━━━━━\u001b[0m\u001b[37m\u001b[0m \u001b[1m7s\u001b[0m 4ms/step - accuracy: 0.8952 - loss: 0.4546 - val_accuracy: 0.9126 - val_loss: 0.3313\n",
      "Epoch 3/5\n",
      "\u001b[1m1750/1750\u001b[0m \u001b[32m━━━━━━━━━━━━━━━━━━━━\u001b[0m\u001b[37m\u001b[0m \u001b[1m6s\u001b[0m 3ms/step - accuracy: 0.9174 - loss: 0.3052 - val_accuracy: 0.9229 - val_loss: 0.2774\n",
      "Epoch 4/5\n",
      "\u001b[1m1750/1750\u001b[0m \u001b[32m━━━━━━━━━━━━━━━━━━━━\u001b[0m\u001b[37m\u001b[0m \u001b[1m10s\u001b[0m 3ms/step - accuracy: 0.9318 - loss: 0.2450 - val_accuracy: 0.9274 - val_loss: 0.2488\n",
      "Epoch 5/5\n",
      "\u001b[1m1750/1750\u001b[0m \u001b[32m━━━━━━━━━━━━━━━━━━━━\u001b[0m\u001b[37m\u001b[0m \u001b[1m5s\u001b[0m 3ms/step - accuracy: 0.9371 - loss: 0.2226 - val_accuracy: 0.9326 - val_loss: 0.2317\n",
      "Fold 4 - Training Loss: 0.2198, Training Accuracy: 0.9375\n",
      "Fold 4 - Validation Loss: 0.2317, Validation Accuracy: 0.9326\n",
      "Time taken for Fold 4: 35.09 seconds\n",
      "\n",
      "Training on Fold 5...\n",
      "Epoch 1/5\n",
      "\u001b[1m1750/1750\u001b[0m \u001b[32m━━━━━━━━━━━━━━━━━━━━\u001b[0m\u001b[37m\u001b[0m \u001b[1m7s\u001b[0m 3ms/step - accuracy: 0.5392 - loss: 1.6255 - val_accuracy: 0.8767 - val_loss: 0.5636\n",
      "Epoch 2/5\n",
      "\u001b[1m1750/1750\u001b[0m \u001b[32m━━━━━━━━━━━━━━━━━━━━\u001b[0m\u001b[37m\u001b[0m \u001b[1m6s\u001b[0m 4ms/step - accuracy: 0.8850 - loss: 0.4817 - val_accuracy: 0.9061 - val_loss: 0.3490\n",
      "Epoch 3/5\n",
      "\u001b[1m1750/1750\u001b[0m \u001b[32m━━━━━━━━━━━━━━━━━━━━\u001b[0m\u001b[37m\u001b[0m \u001b[1m6s\u001b[0m 3ms/step - accuracy: 0.9117 - loss: 0.3223 - val_accuracy: 0.9193 - val_loss: 0.2883\n",
      "Epoch 4/5\n",
      "\u001b[1m1750/1750\u001b[0m \u001b[32m━━━━━━━━━━━━━━━━━━━━\u001b[0m\u001b[37m\u001b[0m \u001b[1m5s\u001b[0m 3ms/step - accuracy: 0.9266 - loss: 0.2627 - val_accuracy: 0.9266 - val_loss: 0.2537\n",
      "Epoch 5/5\n",
      "\u001b[1m1750/1750\u001b[0m \u001b[32m━━━━━━━━━━━━━━━━━━━━\u001b[0m\u001b[37m\u001b[0m \u001b[1m5s\u001b[0m 3ms/step - accuracy: 0.9346 - loss: 0.2312 - val_accuracy: 0.9311 - val_loss: 0.2352\n",
      "Fold 5 - Training Loss: 0.2289, Training Accuracy: 0.9353\n",
      "Fold 5 - Validation Loss: 0.2352, Validation Accuracy: 0.9311\n",
      "Time taken for Fold 5: 29.31 seconds\n",
      "\n"
     ]
    }
   ],
   "source": [
    "for fold, (train_idx, val_idx) in enumerate(kf.split(X_combined_flattened, y_combined)):\n",
    "    print(f\"Training on Fold {fold + 1}...\")\n",
    "    \n",
    "    # Split data into training and validation sets for the current fold\n",
    "    X_train_fold, X_val_fold = X_combined_flattened[train_idx], X_combined_flattened[val_idx]\n",
    "    y_train_fold, y_val_fold = y_combined[train_idx], y_combined[val_idx]\n",
    "    \n",
    "    # Build the model \n",
    "    model = keras.Sequential([\n",
    "        keras.layers.Dense(16, input_shape=(784,), activation=\"sigmoid\"),\n",
    "        keras.layers.Dense(16, activation=\"sigmoid\"),\n",
    "        keras.layers.Dense(10, activation=\"sigmoid\"),  \n",
    "    ])\n",
    "    \n",
    "    model.compile(optimizer=\"adam\", loss=\"sparse_categorical_crossentropy\", metrics=[\"accuracy\"])\n",
    "    \n",
    "    # Track the time before training starts\n",
    "    start_time = time.time()\n",
    "    \n",
    "    # Train the model on the current fold, specifying validation data for validation metrics\n",
    "    history = model.fit(X_train_fold, y_train_fold, epochs=5, batch_size=32, validation_data=(X_val_fold, y_val_fold), verbose=1)\n",
    "    \n",
    "    # Track the time taken for training\n",
    "    time_taken = time.time() - start_time\n",
    "    \n",
    "    # Evaluate the model on the validation set of the current fold\n",
    "    val_loss, val_accuracy = model.evaluate(X_val_fold, y_val_fold, verbose=0)\n",
    "    \n",
    "    # Extract training loss and accuracy from history\n",
    "    train_loss = history.history['loss'][-1]  \n",
    "    train_accuracy = history.history['accuracy'][-1]  \n",
    "    \n",
    "    # Append the results\n",
    "    fold_accuracies.append(train_accuracy)\n",
    "    fold_losses.append(train_loss)\n",
    "    fold_val_accuracies.append(val_accuracy)\n",
    "    fold_val_losses.append(val_loss)\n",
    "    fold_times.append(time_taken)\n",
    "    \n",
    "    print(f\"Fold {fold + 1} - Training Loss: {train_loss:.4f}, Training Accuracy: {train_accuracy:.4f}\")\n",
    "    print(f\"Fold {fold + 1} - Validation Loss: {val_loss:.4f}, Validation Accuracy: {val_accuracy:.4f}\")\n",
    "    print(f\"Time taken for Fold {fold + 1}: {time_taken:.2f} seconds\\n\")"
   ]
  },
  {
   "cell_type": "markdown",
   "metadata": {},
   "source": [
    "<h3>Calculate the average accuracy and loss across all folds</h3>"
   ]
  },
  {
   "cell_type": "code",
   "execution_count": 17,
   "metadata": {},
   "outputs": [
    {
     "name": "stdout",
     "output_type": "stream",
     "text": [
      "Average Training Accuracy: 0.9345\n",
      "Average Training Loss: 0.2327\n",
      "Average Validation Accuracy: 0.9307\n",
      "Average Validation Loss: 0.2417\n",
      "Average Time per Fold: 27.87 seconds\n"
     ]
    }
   ],
   "source": [
    "avg_train_accuracy = np.mean(fold_accuracies)\n",
    "avg_train_loss = np.mean(fold_losses)\n",
    "avg_val_accuracy = np.mean(fold_val_accuracies)\n",
    "avg_val_loss = np.mean(fold_val_losses)\n",
    "avg_time = np.mean(fold_times)\n",
    "\n",
    "print(f\"Average Training Accuracy: {avg_train_accuracy:.4f}\")\n",
    "print(f\"Average Training Loss: {avg_train_loss:.4f}\")\n",
    "print(f\"Average Validation Accuracy: {avg_val_accuracy:.4f}\")\n",
    "print(f\"Average Validation Loss: {avg_val_loss:.4f}\")\n",
    "print(f\"Average Time per Fold: {avg_time:.2f} seconds\")"
   ]
  },
  {
   "cell_type": "markdown",
   "metadata": {},
   "source": [
    "<h3>Using 'kullback_leibler_divergence' loss function</h3>"
   ]
  }
 ],
 "metadata": {
  "kernelspec": {
   "display_name": "Python 3",
   "language": "python",
   "name": "python3"
  },
  "language_info": {
   "codemirror_mode": {
    "name": "ipython",
    "version": 3
   },
   "file_extension": ".py",
   "mimetype": "text/x-python",
   "name": "python",
   "nbconvert_exporter": "python",
   "pygments_lexer": "ipython3",
   "version": "3.12.6"
  }
 },
 "nbformat": 4,
 "nbformat_minor": 2
}
